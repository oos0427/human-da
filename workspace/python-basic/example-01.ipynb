{
 "cells": [
  {
   "cell_type": "code",
   "execution_count": 1,
   "metadata": {},
   "outputs": [
    {
     "name": "stdout",
     "output_type": "stream",
     "text": [
      "hello python !!!\n"
     ]
    }
   ],
   "source": [
    "print(\"hello python !!!\")"
   ]
  },
  {
   "cell_type": "code",
   "execution_count": null,
   "metadata": {},
   "outputs": [],
   "source": [
    "s1 = 'abcde'\n",
    "s2 = \"abcde\"\n",
    "s3 = \"\"\"abcde\"\"\"\n",
    "s4 = '''abcde'''\n",
    "\n",
    "\n",
    "s5 = 'abcdefg \\nhello'\n",
    "\n",
    "s6 = \"\"\"abcdefg\n",
    "hello\"\"\""
   ]
  },
  {
   "cell_type": "code",
   "execution_count": 2,
   "metadata": {},
   "outputs": [
    {
     "name": "stdout",
     "output_type": "stream",
     "text": [
      "abcabcabcabcabcabcabcabcabcabc\n",
      "[1, 2, 3, 1, 2, 3, 1, 2, 3, 1, 2, 3, 1, 2, 3, 1, 2, 3, 1, 2, 3, 1, 2, 3, 1, 2, 3, 1, 2, 3]\n"
     ]
    }
   ],
   "source": [
    "print(\"abc\" * 10)\n",
    "print([1, 2, 3] * 10)"
   ]
  },
  {
   "cell_type": "code",
   "execution_count": 4,
   "metadata": {},
   "outputs": [
    {
     "name": "stdout",
     "output_type": "stream",
     "text": [
      "[10, 20, 30, 40, 50, 60, 70, 80, 90, 100]\n",
      "[10, 20, 30, 40, 50, 60, 70, 80, 90, 100]\n"
     ]
    }
   ],
   "source": [
    "# numbers 각 요소에 10을 곱한 값의 리스트 만들기\n",
    "numbers = [1, 2, 3, 4, 5, 6, 7, 8, 9, 10]\n",
    "\n",
    "numbers2 = []\n",
    "for n in numbers:\n",
    "    numbers2.append(n * 10)\n",
    "\n",
    "print(numbers2)\n",
    "\n",
    "numbers3 = [  n * 10 for n in numbers  ]\n",
    "print(numbers3)"
   ]
  },
  {
   "cell_type": "code",
   "execution_count": 7,
   "metadata": {},
   "outputs": [
    {
     "name": "stdout",
     "output_type": "stream",
     "text": [
      "[10, 30, 50, 70, 90]\n",
      "[10, 30, 50, 70, 90]\n"
     ]
    }
   ],
   "source": [
    "# numbers 짝수 번째 요소에 10을 곱한 값의 리스트 만들기\n",
    "numbers = [1, 2, 3, 4, 5, 6, 7, 8, 9, 10]\n",
    "\n",
    "numbers2 = []\n",
    "for idx, n in enumerate(numbers):\n",
    "    if idx % 2 == 0:\n",
    "        numbers2.append(n * 10)\n",
    "\n",
    "print(numbers2)\n",
    "\n",
    "numbers3 = [n * 10 for idx, n in enumerate(numbers) if idx % 2 == 0]\n",
    "print(numbers3)"
   ]
  },
  {
   "cell_type": "code",
   "execution_count": 10,
   "metadata": {},
   "outputs": [
    {
     "name": "stdout",
     "output_type": "stream",
     "text": [
      "9\n",
      "0 1 2 3 4 5 "
     ]
    }
   ],
   "source": [
    "import random\n",
    "\n",
    "print( random.randint(1, 46) ) # 난수 뽑기\n",
    "\n",
    "for i in range(6):\n",
    "    print(i, end=' ')"
   ]
  },
  {
   "cell_type": "code",
   "execution_count": null,
   "metadata": {},
   "outputs": [],
   "source": [
    "# 로또 번호 추출기\n",
    "# 규칙 1. 1 ~ 45 사이, 난수, 중복 X, 6개 뽑기\n",
    "# 규칙 2. 뽑은 숫자의 평균은 20 ~ 26 사이 ( 범위를 벗어나면 1부터 다시 )"
   ]
  }
 ],
 "metadata": {
  "kernelspec": {
   "display_name": "human-da-env",
   "language": "python",
   "name": "python3"
  },
  "language_info": {
   "codemirror_mode": {
    "name": "ipython",
    "version": 3
   },
   "file_extension": ".py",
   "mimetype": "text/x-python",
   "name": "python",
   "nbconvert_exporter": "python",
   "pygments_lexer": "ipython3",
   "version": "3.12.7"
  }
 },
 "nbformat": 4,
 "nbformat_minor": 2
}
