{
 "cells": [
  {
   "cell_type": "code",
   "execution_count": null,
   "metadata": {},
   "outputs": [],
   "source": [
    "# weather_data.csv 데이터를 읽어서 날짜 리스트와 기온 리스트를 각각 numpy.array로 저장\n",
    "# - csv 모듈 사용해서 행 단위로 데이터 읽기 / dataframe으로 읽어서 numpy.array로 구성\n",
    "\n",
    "# 최저기온 기준 제일 추웠던 날의 기온 (그 날짜의 데이터) 찾기\n",
    "# 최고기온 기준 제일 더웠던 날의 기온 찾기\n",
    "# 일교차가 가장 큰 날 찾기\n",
    "# 평균기온의 평균, 최저기온, 최고기온의 평균"
   ]
  },
  {
   "cell_type": "code",
   "execution_count": 45,
   "metadata": {},
   "outputs": [],
   "source": [
    "import pandas as pd"
   ]
  },
  {
   "cell_type": "code",
   "execution_count": 46,
   "metadata": {},
   "outputs": [],
   "source": [
    "weather_data = pd.read_csv('data-files/weather_data.csv')"
   ]
  },
  {
   "cell_type": "code",
   "execution_count": 47,
   "metadata": {},
   "outputs": [
    {
     "data": {
      "text/plain": [
       "Index(['지점번호', '지점명', '일시', '평균기온(℃)', '최고기온(℃)', '최고기온시각', '최저기온(℃)',\n",
       "       '최저기온시각', '일교차'],\n",
       "      dtype='object')"
      ]
     },
     "execution_count": 47,
     "metadata": {},
     "output_type": "execute_result"
    }
   ],
   "source": [
    "weather_data.columns"
   ]
  },
  {
   "cell_type": "code",
   "execution_count": 53,
   "metadata": {},
   "outputs": [],
   "source": [
    "date_array = weather_data[['일시']].values\n",
    "temperature_array = weather_data[['평균기온(℃)', '최고기온(℃)', '최저기온(℃)']].values"
   ]
  },
  {
   "cell_type": "code",
   "execution_count": 58,
   "metadata": {},
   "outputs": [
    {
     "name": "stdout",
     "output_type": "stream",
     "text": [
      "(42016, 1) 2\n",
      "(42016, 3) 2\n",
      "<class 'numpy.ndarray'> <class 'numpy.ndarray'>\n",
      "object float64\n"
     ]
    }
   ],
   "source": [
    "print( date_array.shape, date_array.ndim )\n",
    "print( temperature_array.shape, temperature_array.ndim )\n",
    "print( type(date_array), type(temperature_array) )\n",
    "print( date_array.dtype, temperature_array.dtype )"
   ]
  },
  {
   "cell_type": "code",
   "execution_count": 62,
   "metadata": {},
   "outputs": [
    {
     "data": {
      "text/plain": [
       "np.float64(nan)"
      ]
     },
     "execution_count": 62,
     "metadata": {},
     "output_type": "execute_result"
    }
   ],
   "source": [
    "temperature_array[:, 2].min() # 최저기온\n",
    "temperature_array[:, 1].max() # 최고기온\n",
    "temperature_array[:, 0].max() # 평균기온"
   ]
  },
  {
   "cell_type": "code",
   "execution_count": 73,
   "metadata": {},
   "outputs": [
    {
     "data": {
      "text/plain": [
       "np.float64(-23.1)"
      ]
     },
     "execution_count": 73,
     "metadata": {},
     "output_type": "execute_result"
    }
   ],
   "source": [
    "import numpy as np\n",
    "\n",
    "np.isnan(temperature_array[:, 2]).sum() # nan 값의 갯수\n",
    "~np.isnan(temperature_array[:, 2]) # nan인 데이터 목록\n",
    "\n",
    "valid_idx = ~np.isnan(temperature_array[:, 2]) #nan이 아닌 데이터 위치\n",
    "temperature_array[:, 2][valid_idx].min()"
   ]
  },
  {
   "cell_type": "code",
   "execution_count": null,
   "metadata": {},
   "outputs": [],
   "source": []
  }
 ],
 "metadata": {
  "kernelspec": {
   "display_name": "human-da-env",
   "language": "python",
   "name": "python3"
  },
  "language_info": {
   "codemirror_mode": {
    "name": "ipython",
    "version": 3
   },
   "file_extension": ".py",
   "mimetype": "text/x-python",
   "name": "python",
   "nbconvert_exporter": "python",
   "pygments_lexer": "ipython3",
   "version": "3.12.7"
  }
 },
 "nbformat": 4,
 "nbformat_minor": 2
}
