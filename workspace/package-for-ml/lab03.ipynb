{
 "cells": [
  {
   "cell_type": "code",
   "execution_count": null,
   "metadata": {},
   "outputs": [],
   "source": [
    "# 1. population.csv 파일을 DataFrame으로 읽고 내용 확인\n",
    "# 2. 현재 연구자 거주지 동의 인구 정보 조회 ( 행전체 )\n",
    "\n",
    "# -> \"1,234,567\" -> \"1234567\" -> 1234567\n",
    "\n",
    "# 3. 총인구수가 가장 많은 동 조회 ( 읍면동 단위 )\n",
    "# 4. 남성인구비가 가장 높은 동 조회 ( 읍면동 단위 )\n",
    "# 5. 도시 법정동 1선정, 농촌 법정동 1선정, 인구 분포 비교 ( 읍면동 단위 )"
   ]
  },
  {
   "cell_type": "code",
   "execution_count": 1,
   "metadata": {},
   "outputs": [],
   "source": [
    "import pandas as pd"
   ]
  },
  {
   "cell_type": "code",
   "execution_count": 2,
   "metadata": {},
   "outputs": [
    {
     "name": "stderr",
     "output_type": "stream",
     "text": [
      "C:\\Users\\human\\AppData\\Local\\Temp\\ipykernel_6436\\804588561.py:1: DtypeWarning: Columns (100,101,103,198,199,200,201,305,306,307,309) have mixed types. Specify dtype option on import or set low_memory=False.\n",
      "  population = pd.read_csv('data-files/population.csv')\n"
     ]
    }
   ],
   "source": [
    "population = pd.read_csv('data-files/population.csv')"
   ]
  },
  {
   "cell_type": "code",
   "execution_count": 3,
   "metadata": {},
   "outputs": [
    {
     "name": "stdout",
     "output_type": "stream",
     "text": [
      "<class 'pandas.core.frame.DataFrame'>\n",
      "RangeIndex: 3910 entries, 0 to 3909\n",
      "Columns: 310 entries, 행정구역 to 2024년09월_여_100세 이상\n",
      "dtypes: int64(7), object(303)\n",
      "memory usage: 9.2+ MB\n"
     ]
    }
   ],
   "source": [
    "population.info()"
   ]
  },
  {
   "cell_type": "code",
   "execution_count": 4,
   "metadata": {},
   "outputs": [
    {
     "data": {
      "text/html": [
       "<div>\n",
       "<style scoped>\n",
       "    .dataframe tbody tr th:only-of-type {\n",
       "        vertical-align: middle;\n",
       "    }\n",
       "\n",
       "    .dataframe tbody tr th {\n",
       "        vertical-align: top;\n",
       "    }\n",
       "\n",
       "    .dataframe thead th {\n",
       "        text-align: right;\n",
       "    }\n",
       "</style>\n",
       "<table border=\"1\" class=\"dataframe\">\n",
       "  <thead>\n",
       "    <tr style=\"text-align: right;\">\n",
       "      <th></th>\n",
       "      <th>행정구역</th>\n",
       "      <th>2024년09월_계_총인구수</th>\n",
       "      <th>2024년09월_계_연령구간인구수</th>\n",
       "      <th>2024년09월_계_0세</th>\n",
       "      <th>2024년09월_계_1세</th>\n",
       "      <th>2024년09월_계_2세</th>\n",
       "      <th>2024년09월_계_3세</th>\n",
       "      <th>2024년09월_계_4세</th>\n",
       "      <th>2024년09월_계_5세</th>\n",
       "      <th>2024년09월_계_6세</th>\n",
       "      <th>...</th>\n",
       "      <th>2024년09월_여_91세</th>\n",
       "      <th>2024년09월_여_92세</th>\n",
       "      <th>2024년09월_여_93세</th>\n",
       "      <th>2024년09월_여_94세</th>\n",
       "      <th>2024년09월_여_95세</th>\n",
       "      <th>2024년09월_여_96세</th>\n",
       "      <th>2024년09월_여_97세</th>\n",
       "      <th>2024년09월_여_98세</th>\n",
       "      <th>2024년09월_여_99세</th>\n",
       "      <th>2024년09월_여_100세 이상</th>\n",
       "    </tr>\n",
       "  </thead>\n",
       "  <tbody>\n",
       "    <tr>\n",
       "      <th>0</th>\n",
       "      <td>서울특별시  (1100000000)</td>\n",
       "      <td>9,350,995</td>\n",
       "      <td>9,350,995</td>\n",
       "      <td>38,100</td>\n",
       "      <td>38,486</td>\n",
       "      <td>40,625</td>\n",
       "      <td>42,608</td>\n",
       "      <td>44,377</td>\n",
       "      <td>47,757</td>\n",
       "      <td>51,072</td>\n",
       "      <td>...</td>\n",
       "      <td>6,767</td>\n",
       "      <td>5,474</td>\n",
       "      <td>3,921</td>\n",
       "      <td>3,343</td>\n",
       "      <td>2,623</td>\n",
       "      <td>1,892</td>\n",
       "      <td>1,391</td>\n",
       "      <td>776</td>\n",
       "      <td>523</td>\n",
       "      <td>1,184</td>\n",
       "    </tr>\n",
       "    <tr>\n",
       "      <th>1</th>\n",
       "      <td>서울특별시 종로구 (1111000000)</td>\n",
       "      <td>138,879</td>\n",
       "      <td>138,879</td>\n",
       "      <td>415</td>\n",
       "      <td>419</td>\n",
       "      <td>467</td>\n",
       "      <td>471</td>\n",
       "      <td>516</td>\n",
       "      <td>512</td>\n",
       "      <td>580</td>\n",
       "      <td>...</td>\n",
       "      <td>131</td>\n",
       "      <td>105</td>\n",
       "      <td>87</td>\n",
       "      <td>63</td>\n",
       "      <td>52</td>\n",
       "      <td>46</td>\n",
       "      <td>34</td>\n",
       "      <td>21</td>\n",
       "      <td>8</td>\n",
       "      <td>33</td>\n",
       "    </tr>\n",
       "    <tr>\n",
       "      <th>2</th>\n",
       "      <td>서울특별시 종로구 청운효자동(1111051500)</td>\n",
       "      <td>11,143</td>\n",
       "      <td>11,143</td>\n",
       "      <td>52</td>\n",
       "      <td>35</td>\n",
       "      <td>43</td>\n",
       "      <td>48</td>\n",
       "      <td>46</td>\n",
       "      <td>50</td>\n",
       "      <td>50</td>\n",
       "      <td>...</td>\n",
       "      <td>13</td>\n",
       "      <td>10</td>\n",
       "      <td>11</td>\n",
       "      <td>3</td>\n",
       "      <td>6</td>\n",
       "      <td>4</td>\n",
       "      <td>1</td>\n",
       "      <td>2</td>\n",
       "      <td>0</td>\n",
       "      <td>4</td>\n",
       "    </tr>\n",
       "  </tbody>\n",
       "</table>\n",
       "<p>3 rows × 310 columns</p>\n",
       "</div>"
      ],
      "text/plain": [
       "                          행정구역 2024년09월_계_총인구수 2024년09월_계_연령구간인구수  \\\n",
       "0          서울특별시  (1100000000)       9,350,995          9,350,995   \n",
       "1       서울특별시 종로구 (1111000000)         138,879            138,879   \n",
       "2  서울특별시 종로구 청운효자동(1111051500)          11,143             11,143   \n",
       "\n",
       "  2024년09월_계_0세 2024년09월_계_1세 2024년09월_계_2세 2024년09월_계_3세 2024년09월_계_4세  \\\n",
       "0        38,100        38,486        40,625        42,608        44,377   \n",
       "1           415           419           467           471           516   \n",
       "2            52            35            43            48            46   \n",
       "\n",
       "  2024년09월_계_5세 2024년09월_계_6세  ... 2024년09월_여_91세 2024년09월_여_92세  \\\n",
       "0        47,757        51,072  ...          6,767          5,474   \n",
       "1           512           580  ...            131            105   \n",
       "2            50            50  ...             13             10   \n",
       "\n",
       "  2024년09월_여_93세 2024년09월_여_94세 2024년09월_여_95세 2024년09월_여_96세 2024년09월_여_97세  \\\n",
       "0          3,921          3,343          2,623          1,892          1,391   \n",
       "1             87             63             52             46             34   \n",
       "2             11              3              6              4              1   \n",
       "\n",
       "  2024년09월_여_98세 2024년09월_여_99세 2024년09월_여_100세 이상  \n",
       "0            776            523              1,184  \n",
       "1             21              8                 33  \n",
       "2              2              0                  4  \n",
       "\n",
       "[3 rows x 310 columns]"
      ]
     },
     "execution_count": 4,
     "metadata": {},
     "output_type": "execute_result"
    }
   ],
   "source": [
    "population.head(3)"
   ]
  },
  {
   "cell_type": "code",
   "execution_count": 14,
   "metadata": {},
   "outputs": [
    {
     "data": {
      "text/html": [
       "<div>\n",
       "<style scoped>\n",
       "    .dataframe tbody tr th:only-of-type {\n",
       "        vertical-align: middle;\n",
       "    }\n",
       "\n",
       "    .dataframe tbody tr th {\n",
       "        vertical-align: top;\n",
       "    }\n",
       "\n",
       "    .dataframe thead th {\n",
       "        text-align: right;\n",
       "    }\n",
       "</style>\n",
       "<table border=\"1\" class=\"dataframe\">\n",
       "  <thead>\n",
       "    <tr style=\"text-align: right;\">\n",
       "      <th></th>\n",
       "      <th>행정구역</th>\n",
       "      <th>2024년09월_계_총인구수</th>\n",
       "      <th>2024년09월_계_연령구간인구수</th>\n",
       "      <th>2024년09월_계_0세</th>\n",
       "      <th>2024년09월_계_1세</th>\n",
       "      <th>2024년09월_계_2세</th>\n",
       "      <th>2024년09월_계_3세</th>\n",
       "      <th>2024년09월_계_4세</th>\n",
       "      <th>2024년09월_계_5세</th>\n",
       "      <th>2024년09월_계_6세</th>\n",
       "      <th>...</th>\n",
       "      <th>2024년09월_여_91세</th>\n",
       "      <th>2024년09월_여_92세</th>\n",
       "      <th>2024년09월_여_93세</th>\n",
       "      <th>2024년09월_여_94세</th>\n",
       "      <th>2024년09월_여_95세</th>\n",
       "      <th>2024년09월_여_96세</th>\n",
       "      <th>2024년09월_여_97세</th>\n",
       "      <th>2024년09월_여_98세</th>\n",
       "      <th>2024년09월_여_99세</th>\n",
       "      <th>2024년09월_여_100세 이상</th>\n",
       "    </tr>\n",
       "  </thead>\n",
       "  <tbody>\n",
       "    <tr>\n",
       "      <th>1527</th>\n",
       "      <td>경기도 평택시 동삭동(4122065000)</td>\n",
       "      <td>42,024</td>\n",
       "      <td>42,024</td>\n",
       "      <td>527</td>\n",
       "      <td>527</td>\n",
       "      <td>507</td>\n",
       "      <td>492</td>\n",
       "      <td>517</td>\n",
       "      <td>538</td>\n",
       "      <td>568</td>\n",
       "      <td>...</td>\n",
       "      <td>8</td>\n",
       "      <td>6</td>\n",
       "      <td>8</td>\n",
       "      <td>2</td>\n",
       "      <td>2</td>\n",
       "      <td>1</td>\n",
       "      <td>1</td>\n",
       "      <td>2</td>\n",
       "      <td>1</td>\n",
       "      <td>0</td>\n",
       "    </tr>\n",
       "  </tbody>\n",
       "</table>\n",
       "<p>1 rows × 310 columns</p>\n",
       "</div>"
      ],
      "text/plain": [
       "                         행정구역 2024년09월_계_총인구수 2024년09월_계_연령구간인구수  \\\n",
       "1527  경기도 평택시 동삭동(4122065000)          42,024             42,024   \n",
       "\n",
       "     2024년09월_계_0세 2024년09월_계_1세 2024년09월_계_2세 2024년09월_계_3세 2024년09월_계_4세  \\\n",
       "1527           527           527           507           492           517   \n",
       "\n",
       "     2024년09월_계_5세 2024년09월_계_6세  ... 2024년09월_여_91세 2024년09월_여_92세  \\\n",
       "1527           538           568  ...              8              6   \n",
       "\n",
       "     2024년09월_여_93세 2024년09월_여_94세 2024년09월_여_95세 2024년09월_여_96세  \\\n",
       "1527              8              2              2              1   \n",
       "\n",
       "     2024년09월_여_97세 2024년09월_여_98세 2024년09월_여_99세 2024년09월_여_100세 이상  \n",
       "1527              1              2              1                  0  \n",
       "\n",
       "[1 rows x 310 columns]"
      ]
     },
     "execution_count": 14,
     "metadata": {},
     "output_type": "execute_result"
    }
   ],
   "source": [
    "# Series.str : Series에 포함된 문자열 각각에 적용할 함수를 포함하는 객체 (내장된 반복문 실행)\n",
    "dong_filter = population['행정구역'].str.contains('동삭동')\n",
    "population[dong_filter]"
   ]
  },
  {
   "cell_type": "code",
   "execution_count": 23,
   "metadata": {},
   "outputs": [
    {
     "name": "stdout",
     "output_type": "stream",
     "text": [
      "int64\n"
     ]
    }
   ],
   "source": [
    "# \"1,234,567\" -> \"1234567\" -> 1234567\n",
    "\n",
    "print ( population[\"2024년09월_계_총인구수\"].dtype )\n",
    "\n",
    "population[\"2024년09월_계_총인구수\"] = \\\n",
    "    population[\"2024년09월_계_총인구수\"].map(lambda v : int(str(v).replace(\",\", \"\")))"
   ]
  },
  {
   "cell_type": "code",
   "execution_count": 21,
   "metadata": {},
   "outputs": [
    {
     "data": {
      "text/plain": [
       "dtype('int64')"
      ]
     },
     "execution_count": 21,
     "metadata": {},
     "output_type": "execute_result"
    }
   ],
   "source": [
    "population[\"2024년09월_계_총인구수\"].dtype"
   ]
  },
  {
   "cell_type": "code",
   "execution_count": 24,
   "metadata": {},
   "outputs": [
    {
     "data": {
      "text/plain": [
       "0                서울특별시  (1100000000)\n",
       "1             서울특별시 종로구 (1111000000)\n",
       "2        서울특별시 종로구 청운효자동(1111051500)\n",
       "3          서울특별시 종로구 사직동(1111053000)\n",
       "4          서울특별시 종로구 삼청동(1111054000)\n",
       "                    ...             \n",
       "3905    제주특별자치도 서귀포시 서홍동(5013058000)\n",
       "3906    제주특별자치도 서귀포시 대륜동(5013059000)\n",
       "3907    제주특별자치도 서귀포시 대천동(5013060000)\n",
       "3908    제주특별자치도 서귀포시 중문동(5013061000)\n",
       "3909    제주특별자치도 서귀포시 예래동(5013062000)\n",
       "Name: 행정구역, Length: 3910, dtype: object"
      ]
     },
     "execution_count": 24,
     "metadata": {},
     "output_type": "execute_result"
    }
   ],
   "source": [
    "population[\"행정구역\"]"
   ]
  },
  {
   "cell_type": "code",
   "execution_count": 27,
   "metadata": {},
   "outputs": [
    {
     "data": {
      "text/html": [
       "<div>\n",
       "<style scoped>\n",
       "    .dataframe tbody tr th:only-of-type {\n",
       "        vertical-align: middle;\n",
       "    }\n",
       "\n",
       "    .dataframe tbody tr th {\n",
       "        vertical-align: top;\n",
       "    }\n",
       "\n",
       "    .dataframe thead th {\n",
       "        text-align: right;\n",
       "    }\n",
       "</style>\n",
       "<table border=\"1\" class=\"dataframe\">\n",
       "  <thead>\n",
       "    <tr style=\"text-align: right;\">\n",
       "      <th></th>\n",
       "      <th>행정구역</th>\n",
       "      <th>2024년09월_계_총인구수</th>\n",
       "      <th>2024년09월_계_연령구간인구수</th>\n",
       "      <th>2024년09월_계_0세</th>\n",
       "      <th>2024년09월_계_1세</th>\n",
       "      <th>2024년09월_계_2세</th>\n",
       "      <th>2024년09월_계_3세</th>\n",
       "      <th>2024년09월_계_4세</th>\n",
       "      <th>2024년09월_계_5세</th>\n",
       "      <th>2024년09월_계_6세</th>\n",
       "      <th>...</th>\n",
       "      <th>2024년09월_여_91세</th>\n",
       "      <th>2024년09월_여_92세</th>\n",
       "      <th>2024년09월_여_93세</th>\n",
       "      <th>2024년09월_여_94세</th>\n",
       "      <th>2024년09월_여_95세</th>\n",
       "      <th>2024년09월_여_96세</th>\n",
       "      <th>2024년09월_여_97세</th>\n",
       "      <th>2024년09월_여_98세</th>\n",
       "      <th>2024년09월_여_99세</th>\n",
       "      <th>2024년09월_여_100세 이상</th>\n",
       "    </tr>\n",
       "  </thead>\n",
       "  <tbody>\n",
       "    <tr>\n",
       "      <th>3715</th>\n",
       "      <td>경상남도 양산시 물금읍(4833025300)</td>\n",
       "      <td>117160</td>\n",
       "      <td>117,160</td>\n",
       "      <td>643</td>\n",
       "      <td>739</td>\n",
       "      <td>845</td>\n",
       "      <td>882</td>\n",
       "      <td>1,114</td>\n",
       "      <td>1,169</td>\n",
       "      <td>1,403</td>\n",
       "      <td>...</td>\n",
       "      <td>46</td>\n",
       "      <td>42</td>\n",
       "      <td>31</td>\n",
       "      <td>18</td>\n",
       "      <td>24</td>\n",
       "      <td>12</td>\n",
       "      <td>4</td>\n",
       "      <td>5</td>\n",
       "      <td>4</td>\n",
       "      <td>9</td>\n",
       "    </tr>\n",
       "  </tbody>\n",
       "</table>\n",
       "<p>1 rows × 310 columns</p>\n",
       "</div>"
      ],
      "text/plain": [
       "                          행정구역  2024년09월_계_총인구수 2024년09월_계_연령구간인구수  \\\n",
       "3715  경상남도 양산시 물금읍(4833025300)           117160            117,160   \n",
       "\n",
       "     2024년09월_계_0세 2024년09월_계_1세 2024년09월_계_2세 2024년09월_계_3세 2024년09월_계_4세  \\\n",
       "3715           643           739           845           882         1,114   \n",
       "\n",
       "     2024년09월_계_5세 2024년09월_계_6세  ... 2024년09월_여_91세 2024년09월_여_92세  \\\n",
       "3715         1,169         1,403  ...             46             42   \n",
       "\n",
       "     2024년09월_여_93세 2024년09월_여_94세 2024년09월_여_95세 2024년09월_여_96세  \\\n",
       "3715             31             18             24             12   \n",
       "\n",
       "     2024년09월_여_97세 2024년09월_여_98세 2024년09월_여_99세 2024년09월_여_100세 이상  \n",
       "3715              4              5              4                  9  \n",
       "\n",
       "[1 rows x 310 columns]"
      ]
     },
     "execution_count": 27,
     "metadata": {},
     "output_type": "execute_result"
    }
   ],
   "source": [
    "area_mask = population['행정구역'].map(lambda v: v[-6] != '0') # 동 행정구역 찾기\n",
    "max_value = population[area_mask][\"2024년09월_계_총인구수\"].max()\n",
    "max_value\n",
    "\n",
    "population[ population[\"2024년09월_계_총인구수\"] == max_value ]\n"
   ]
  }
 ],
 "metadata": {
  "kernelspec": {
   "display_name": "human-da-env",
   "language": "python",
   "name": "python3"
  },
  "language_info": {
   "codemirror_mode": {
    "name": "ipython",
    "version": 3
   },
   "file_extension": ".py",
   "mimetype": "text/x-python",
   "name": "python",
   "nbconvert_exporter": "python",
   "pygments_lexer": "ipython3",
   "version": "3.12.7"
  }
 },
 "nbformat": 4,
 "nbformat_minor": 2
}
